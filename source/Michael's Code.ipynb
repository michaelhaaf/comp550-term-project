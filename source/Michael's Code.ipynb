{
 "cells": [
  {
   "cell_type": "code",
   "execution_count": 1,
   "metadata": {
    "collapsed": true
   },
   "outputs": [],
   "source": [
    "import glob\n",
    "import pickle\n",
    "import os\n",
    "import re\n",
    "import numpy as np\n",
    "import matplotlib.pyplot as plt\n",
    "\n",
    "from collections import Counter\n",
    "from sklearn import metrics\n",
    "from sklearn.feature_extraction import DictVectorizer\n",
    "from sklearn.feature_extraction.text import TfidfTransformer\n",
    "from sklearn.linear_model import SGDClassifier\n",
    "from sklearn.model_selection import train_test_split\n",
    "from sklearn.pipeline import Pipeline\n",
    "\n",
    "from document import Document\n",
    "\n",
    "FUNCTION_WORD_POS = [\n",
    "'DET:ART',\n",
    "'DET:POS',\n",
    "'INT',\n",
    "'KON',\n",
    "'PRO',\n",
    "'PRO:DEM',\n",
    "'PRO:IND',\n",
    "'PRO:PER',\n",
    "'PRO:POS',\n",
    "'PRO:REL',\n",
    "'PRP',\n",
    "'PRP:det',\n",
    "]"
   ]
  },
  {
   "cell_type": "code",
   "execution_count": 3,
   "metadata": {
    "collapsed": true
   },
   "outputs": [],
   "source": [
    "def load_data():\n",
    "    print('loading data...')\n",
    "    file_paths = [f for f in glob.glob(\"../data/*.txt\")]\n",
    "    data = {}\n",
    "    for path in file_paths:\n",
    "        file = open(path , \"rb\")\n",
    "        print('pickling ', path, '...')\n",
    "        data[os.path.basename(path)] = pickle.load(file)\n",
    "        file.close()\n",
    "    print('done loading data.')\n",
    "    return data"
   ]
  },
  {
   "cell_type": "code",
   "execution_count": 4,
   "metadata": {
    "collapsed": true
   },
   "outputs": [],
   "source": [
    "def generate_documents(input_data_dict):\n",
    "    documents = []\n",
    "    for file_path, tag_list in input_data_dict.items():\n",
    "        label = get_label_from_file_path(file_path)\n",
    "        documents.extend([Document(label, tag_list[x:x+1000]) for x in range(0, len(tag_list), 1000)])\n",
    "    return documents"
   ]
  },
  {
   "cell_type": "code",
   "execution_count": 5,
   "metadata": {
    "collapsed": true
   },
   "outputs": [],
   "source": [
    "def get_label_from_file_path(file_path):\n",
    "    label = re.search('(?<=-)(.+)(?=-)', file_path)\n",
    "    if label is None:\n",
    "        return file_path\n",
    "    else:\n",
    "        return label.group()"
   ]
  },
  {
   "cell_type": "code",
   "execution_count": 6,
   "metadata": {
    "collapsed": true
   },
   "outputs": [],
   "source": [
    "# code borrowed from https://medium.com/@aneesha/visualising-top-features-in-linear-svm-with-scikit-learn-and-matplotlib-3454ab18a14d\n",
    "def plot_coefficients(classifier, feature_names, top_features=20):\n",
    "    coef = classifier.coef_.ravel()\n",
    "    top_positive_coefficients = np.argsort(coef)[-top_features:]\n",
    "    top_negative_coefficients = np.argsort(coef)[:top_features]\n",
    "    top_coefficients = np.hstack([top_negative_coefficients, top_positive_coefficients])\n",
    "    # create plot\n",
    "    plt.figure(figsize=(15, 5))\n",
    "    colors = ['red' if c < 0 else 'blue' for c in coef[top_coefficients]]\n",
    "    plt.bar(np.arange(2 * top_features), coef[top_coefficients], color=colors)\n",
    "    feature_names = np.array(feature_names)\n",
    "    plt.xticks(np.arange(1, 1 + 2 * top_features),\n",
    "               feature_names[top_coefficients % len(feature_names)],\n",
    "               rotation=60, ha='right')\n",
    "    plt.show()"
   ]
  },
  {
   "cell_type": "code",
   "execution_count": 7,
   "metadata": {
    "collapsed": true
   },
   "outputs": [],
   "source": [
    "def features(tags_list):\n",
    "    features = []\n",
    "    for tags in tags_list:\n",
    "        features.append(relative_function_word_feature(tags))\n",
    "    return features"
   ]
  },
  {
   "cell_type": "code",
   "execution_count": 8,
   "metadata": {
    "collapsed": true
   },
   "outputs": [],
   "source": [
    "def relative_function_word_feature(tags):\n",
    "    function_words = [tag.lemma for tag in tags if tag.pos in FUNCTION_WORD_POS]\n",
    "    word_counts = dict(Counter(function_words))\n",
    "    relative_word_counts = {word: word_counts[word] / len(function_words)\n",
    "                            for word in word_counts.keys()}\n",
    "    return relative_word_counts"
   ]
  },
  {
   "cell_type": "code",
   "execution_count": 15,
   "metadata": {},
   "outputs": [
    {
     "name": "stdout",
     "output_type": "stream",
     "text": [
      "loading data...\n",
      "pickling  ../data/1801-Chateaubriand-ATALA.txt ...\n",
      "pickling  ../data/1802-Chateaubriand-RENE.txt ...\n",
      "pickling  ../data/1807-Chateaubriand-Les Aventures du dernier Abencerage.txt ...\n",
      "pickling  ../data/1874-Zola-LA CONQUETE DE PLASSANS.txt ...\n",
      "pickling  ../data/1875-Jules Verne-L'ÎLE MYSTÉRIEUSE.txt ...\n",
      "pickling  ../data/1876-Gobineau Joseph-Nouvelles Asiatiques.txt ...\n",
      "pickling  ../data/1878-Loti-Le Mariage de Loti.txt ...\n",
      "pickling  ../data/1880-Zola-NANA.txt ...\n",
      "pickling  ../data/1883-Maupassant-Contes et Nouvelles.txt ...\n",
      "pickling  ../data/1883-Zola-AU BONHEUR DES DAMES.txt ...\n",
      "pickling  ../data/1890-Zola-LA BETE HUMANINE.txt ...\n",
      "pickling  ../data/1891-Huysmans-La bas.txt ...\n",
      "pickling  ../data/1891-Zola-L'argent.txt ...\n",
      "pickling  ../data/1892-Zola-LE DEBACLE.txt ...\n",
      "pickling  ../data/1894-Jules Renard-Poil de Carotte.txt ...\n",
      "pickling  ../data/1902-Colette-Claudine a l’École.txt ...\n",
      "pickling  ../data/1904-Colette-Dialogues De Bêtes.txt ...\n",
      "pickling  ../data/1906-Claude Farrère-L'HOMME QUI ASSASSINA.txt ...\n",
      "pickling  ../data/1908-Proust-A LA RECHERCHE DU TEMPS PERDU.txt ...\n",
      "pickling  ../data/1910-Pergaud-DE GOUPIL À MARGOT.txt ...\n",
      "pickling  ../data/1910-Vogüé-LES MORTS QUI PARLENT.txt ...\n",
      "pickling  ../data/1912-Louis Pergaud-LA GUERRE DES BOUTONS.txt ...\n",
      "pickling  ../data/1913-Pegard-LE ROMAN DE MIRAUT.txt ...\n",
      "pickling  ../data/1913-Proust-DU CÔTÉ DE CHEZ SWANN.txt ...\n",
      "pickling  ../data/1913-Valery Larbaud-A.O. Barnabooth.txt ...\n",
      "pickling  ../data/1914-Colette-LES HEURES LONGUES.txt ...\n",
      "pickling  ../data/1916-Colette-LA PAIX CHEZ LES BATES.txt ...\n",
      "pickling  ../data/1918-Giraudoux-simon le pathetique.txt ...\n",
      "pickling  ../data/1920-Colette-CHÉRI.txt ...\n",
      "pickling  ../data/1921-Giraudoux-Suzanne et le Pacifique.txt ...\n",
      "pickling  ../data/1922-Colette-LA MAISON DE CLAUDINE.txt ...\n",
      "pickling  ../data/1922-Martin Du Gard-LES THIBAULT.txt ...\n",
      "pickling  ../data/1925-Andre Gide-Les Faux Monnayeurs.txt ...\n",
      "pickling  ../data/1928-Andre Breton-Nadja.txt ...\n",
      "pickling  ../data/1928-Colette-La Naissancue Du Jour.txt ...\n",
      "pickling  ../data/1929-Colette-Sido.txt ...\n",
      "pickling  ../data/1929-Jean Giono-COLLINE.txt ...\n",
      "pickling  ../data/1929-Jean Giono-Un de Baumugnes.txt ...\n",
      "pickling  ../data/1932-Celine-VOYAGE AU BOUT DE LA NUIT .txt ...\n",
      "pickling  ../data/1933-Colette-LA CHATTE.txt ...\n",
      "pickling  ../data/1935-Maxence Van Der Meersch-INVASION 14.txt ...\n",
      "pickling  ../data/1936-Celine-MORT À CRÉDIT.txt ...\n",
      "pickling  ../data/1937-Bernanos-Nouvelle histoire de Mouchette.txt ...\n",
      "pickling  ../data/1940-Joseph Malegue-Augustin ou le maitre est la .txt ...\n",
      "pickling  ../data/1949-Jean Paul Sartre-La mort dans l'ame.txt ...\n",
      "pickling  ../data/1954-Françoise Sagan-Bonjour tristesse.txt ...\n",
      "pickling  ../data/1954-Simone de Beauvoir-Les mandarins .txt ...\n",
      "done loading data.\n"
     ]
    }
   ],
   "source": [
    "book_data_dict = load_data()"
   ]
  },
  {
   "cell_type": "code",
   "execution_count": 16,
   "metadata": {
    "collapsed": true
   },
   "outputs": [],
   "source": [
    "documents = generate_documents(book_data_dict)"
   ]
  },
  {
   "cell_type": "code",
   "execution_count": 17,
   "metadata": {
    "collapsed": true
   },
   "outputs": [],
   "source": [
    "text_classifier = Pipeline([\n",
    "        ('vect', DictVectorizer()),\n",
    "        ('tfidf', TfidfTransformer()),\n",
    "        ('clf', SGDClassifier(random_state=42, penalty='l1'))\n",
    "    ])"
   ]
  },
  {
   "cell_type": "code",
   "execution_count": 18,
   "metadata": {},
   "outputs": [],
   "source": [
    "labels = [doc.label for doc in documents]\n",
    "X = [doc.tag_list for doc in documents]\n",
    "X_train, X_test, y_train, y_test = train_test_split(X, labels, test_size=0.20)"
   ]
  },
  {
   "cell_type": "code",
   "execution_count": 19,
   "metadata": {},
   "outputs": [
    {
     "name": "stderr",
     "output_type": "stream",
     "text": [
      "/anaconda3/lib/python3.6/site-packages/sklearn/linear_model/stochastic_gradient.py:144: FutureWarning: max_iter and tol parameters have been added in SGDClassifier in 0.19. If both are left unset, they default to max_iter=5 and tol=None. If tol is not None, max_iter defaults to max_iter=1000. From 0.21, default max_iter will be 1000, and default tol will be 1e-3.\n",
      "  FutureWarning)\n",
      "/anaconda3/lib/python3.6/site-packages/sklearn/metrics/classification.py:1143: UndefinedMetricWarning: Precision and F-score are ill-defined and being set to 0.0 in labels with no predicted samples.\n",
      "  'precision', 'predicted', average, warn_for)\n"
     ]
    },
    {
     "name": "stdout",
     "output_type": "stream",
     "text": [
      "                         precision    recall  f1-score   support\n",
      "\n",
      "           Andre Breton       0.00      0.00      0.00         3\n",
      "             Andre Gide       0.84      0.59      0.70        27\n",
      "               Bernanos       0.33      0.12      0.18         8\n",
      "                 Celine       0.97      0.76      0.86        93\n",
      "          Chateaubriand       0.36      0.62      0.45         8\n",
      "        Claude Farrère       0.43      0.25      0.32        12\n",
      "                Colette       0.61      0.71      0.66        82\n",
      "       Françoise Sagan       0.57      0.80      0.67         5\n",
      "              Giraudoux       0.57      0.62      0.60        32\n",
      "        Gobineau Joseph       0.67      0.09      0.15        23\n",
      "               Huysmans       1.00      0.41      0.58        27\n",
      "             Jean Giono       0.36      0.53      0.43        15\n",
      "       Jean Paul Sartre       0.69      0.84      0.76        32\n",
      "         Joseph Malegue       0.50      0.83      0.62        64\n",
      "           Jules Renard       0.50      0.33      0.40         9\n",
      "            Jules Verne       0.78      0.98      0.87        63\n",
      "                   Loti       0.57      0.33      0.42        12\n",
      "          Louis Pergaud       0.82      0.60      0.69        15\n",
      "         Martin Du Gard       0.00      0.00      0.00        10\n",
      "             Maupassant       0.75      0.66      0.70       219\n",
      "Maxence Van Der Meersch       0.53      0.74      0.62        39\n",
      "                 Pegard       0.75      0.50      0.60        12\n",
      "                Pergaud       0.00      0.00      0.00         9\n",
      "                 Proust       0.85      0.97      0.91        80\n",
      "     Simone de Beauvoir       0.77      0.67      0.72        36\n",
      "         Valery Larbaud       0.00      0.00      0.00         2\n",
      "                Vogüé       0.83      0.63      0.72        30\n",
      "                   Zola       0.86      0.89      0.87       212\n",
      "\n",
      "              micro avg       0.72      0.72      0.72      1179\n",
      "              macro avg       0.57      0.52      0.52      1179\n",
      "           weighted avg       0.74      0.72      0.71      1179\n",
      "\n"
     ]
    },
    {
     "data": {
      "image/png": "[encoded data removed]",
      "text/plain": [
       "<Figure size 1080x360 with 1 Axes>"
      ]
     },
     "metadata": {},
     "output_type": "display_data"
    }
   ],
   "source": [
    "text_classifier.fit(features(X_train), y_train)\n",
    "predicted = text_classifier.predict(features(X_test))\n",
    "np.mean(predicted == y_test)\n",
    "print(metrics.classification_report(y_test, predicted))\n",
    "plot_coefficients(text_classifier.named_steps['clf'],\n",
    "                  text_classifier.named_steps['vect'].get_feature_names())"
   ]
  },
  {
   "cell_type": "code",
   "execution_count": null,
   "metadata": {
    "collapsed": true
   },
   "outputs": [],
   "source": []
  }
 ],
 "metadata": {
  "kernelspec": {
   "display_name": "Python 3",
   "language": "python",
   "name": "python3"
  },
  "language_info": {
   "codemirror_mode": {
    "name": "ipython",
    "version": 3
   },
   "file_extension": ".py",
   "mimetype": "text/x-python",
   "name": "python",
   "nbconvert_exporter": "python",
   "pygments_lexer": "ipython3",
   "version": "3.6.3"
  }
 },
 "nbformat": 4,
 "nbformat_minor": 2
}
