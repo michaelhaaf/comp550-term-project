{
 "cells": [
  {
   "cell_type": "code",
   "execution_count": 1,
   "metadata": {
    "collapsed": true
   },
   "outputs": [],
   "source": [
    "import glob\n",
    "import pickle\n",
    "import os\n",
    "import re\n",
    "import numpy as np\n",
    "import matplotlib.pyplot as plt\n",
    "\n",
    "from collections import Counter\n",
    "from sklearn import metrics\n",
    "from sklearn.feature_extraction import DictVectorizer\n",
    "from sklearn.feature_extraction.text import TfidfTransformer\n",
    "from sklearn.linear_model import SGDClassifier\n",
    "from sklearn.model_selection import train_test_split\n",
    "from sklearn.pipeline import Pipeline\n",
    "\n",
    "from document import Document\n",
    "\n",
    "FUNCTION_WORD_POS = [\n",
    "'DET:ART',\n",
    "'DET:POS',\n",
    "'INT',\n",
    "'KON',\n",
    "'PRO',\n",
    "'PRO:DEM',\n",
    "'PRO:IND',\n",
    "'PRO:PER',\n",
    "'PRO:POS',\n",
    "'PRO:REL',\n",
    "'PRP',\n",
    "'PRP:det',\n",
    "]"
   ]
  },
  {
   "cell_type": "code",
   "execution_count": null,
   "metadata": {
    "collapsed": true
   },
   "outputs": [],
   "source": [
    "def load_data():\n",
    "    print('loading data...')\n",
    "    file_paths = [f for f in glob.glob(\"../data/*.txt\")]\n",
    "    data = {}\n",
    "    for path in file_paths:\n",
    "        file = open(path , \"rb\")\n",
    "        print('pickling ', path, '...')\n",
    "        data[os.path.basename(path)] = pickle.load(file)\n",
    "        file.close()\n",
    "    print('done loading data.')\n",
    "    return data"
   ]
  },
  {
   "cell_type": "code",
   "execution_count": null,
   "metadata": {
    "collapsed": true
   },
   "outputs": [],
   "source": [
    "def generate_documents(input_data_dict):\n",
    "    documents = []\n",
    "    for file_path, tag_list in input_data_dict.items():\n",
    "        label = get_label_from_file_path(file_path)\n",
    "        documents.extend([Document(label, tag_list[x:x+1000]) for x in range(0, len(tag_list), 1000)])\n",
    "    return documents"
   ]
  },
  {
   "cell_type": "code",
   "execution_count": null,
   "metadata": {
    "collapsed": true
   },
   "outputs": [],
   "source": [
    "def get_label_from_file_path(file_path):\n",
    "    label = re.search('(?<=-)(.+)(?=-)', file_path)\n",
    "    if label is None:\n",
    "        return file_path\n",
    "    else:\n",
    "        return label.group()"
   ]
  },
  {
   "cell_type": "code",
   "execution_count": null,
   "metadata": {
    "collapsed": true
   },
   "outputs": [],
   "source": [
    "# code borrowed from https://medium.com/@aneesha/visualising-top-features-in-linear-svm-with-scikit-learn-and-matplotlib-3454ab18a14d\n",
    "def plot_coefficients(classifier, feature_names, top_features=20):\n",
    "    coef = classifier.coef_.ravel()\n",
    "    top_positive_coefficients = np.argsort(coef)[-top_features:]\n",
    "    top_negative_coefficients = np.argsort(coef)[:top_features]\n",
    "    top_coefficients = np.hstack([top_negative_coefficients, top_positive_coefficients])\n",
    "    # create plot\n",
    "    plt.figure(figsize=(15, 5))\n",
    "    colors = ['red' if c < 0 else 'blue' for c in coef[top_coefficients]]\n",
    "    plt.bar(np.arange(2 * top_features), coef[top_coefficients], color=colors)\n",
    "    feature_names = np.array(feature_names)\n",
    "    plt.xticks(np.arange(1, 1 + 2 * top_features),\n",
    "               feature_names[top_coefficients % len(feature_names)],\n",
    "               rotation=60, ha='right')\n",
    "    plt.show()"
   ]
  },
  {
   "cell_type": "code",
   "execution_count": 2,
   "metadata": {
    "collapsed": true
   },
   "outputs": [],
   "source": [
    "\n",
    "\n",
    "\n",
    "\n",
    "\n",
    "\n",
    "\n",
    "\n",
    "\n",
    "def features(tags_list):\n",
    "    features = []\n",
    "    for tags in tags_list:\n",
    "        features.append(relative_function_word_feature(tags))\n",
    "    return features\n",
    "\n",
    "\n",
    "def relative_function_word_feature(tags):\n",
    "    function_words = [tag.lemma for tag in tags if tag.pos in FUNCTION_WORD_POS]\n",
    "    word_counts = dict(Counter(function_words))\n",
    "    relative_word_counts = {word: word_counts[word] / len(function_words)\n",
    "                            for word in word_counts.keys()}\n",
    "    return relative_word_counts"
   ]
  },
  {
   "cell_type": "code",
   "execution_count": null,
   "metadata": {
    "collapsed": true
   },
   "outputs": [],
   "source": []
  }
 ],
 "metadata": {
  "kernelspec": {
   "display_name": "Python 3",
   "language": "python",
   "name": "python3"
  },
  "language_info": {
   "codemirror_mode": {
    "name": "ipython",
    "version": 3
   },
   "file_extension": ".py",
   "mimetype": "text/x-python",
   "name": "python",
   "nbconvert_exporter": "python",
   "pygments_lexer": "ipython3",
   "version": "3.6.3"
  }
 },
 "nbformat": 4,
 "nbformat_minor": 2
}
